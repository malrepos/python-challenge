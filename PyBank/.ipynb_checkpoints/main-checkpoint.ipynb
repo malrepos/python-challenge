{
 "cells": [
  {
   "cell_type": "code",
   "execution_count": 44,
   "id": "4cd1c38c-3111-447f-9c6e-a42038cf483c",
   "metadata": {},
   "outputs": [],
   "source": [
    "import pandas as pd\n",
    "import numpy as py\n",
    "from pathlib import Path"
   ]
  },
  {
   "cell_type": "code",
   "execution_count": 32,
   "id": "e5d13310-471c-46f3-895c-4d647917889c",
   "metadata": {},
   "outputs": [],
   "source": [
    "file = Path(\"Resources/budget_data.csv\")"
   ]
  },
  {
   "cell_type": "code",
   "execution_count": 33,
   "id": "2a17ce00-2539-447c-90b8-63405a800410",
   "metadata": {},
   "outputs": [],
   "source": [
    "df = pd.read_csv(file)"
   ]
  },
  {
   "cell_type": "code",
   "execution_count": 34,
   "id": "7acb45c9-87a4-49cf-b054-63c6fc793808",
   "metadata": {},
   "outputs": [
    {
     "name": "stdout",
     "output_type": "stream",
     "text": [
      "       Date  Profit/Losses\n",
      "0  Jan-2010         867884\n",
      "1  Feb-2010         984655\n",
      "2  Mar-2010         322013\n",
      "3  Apr-2010         -69417\n",
      "4  May-2010         310503\n"
     ]
    }
   ],
   "source": [
    "print(df.head())"
   ]
  },
  {
   "cell_type": "code",
   "execution_count": 35,
   "id": "1dfdfb35-3ffb-4707-b0e5-60e1b599f1f0",
   "metadata": {},
   "outputs": [],
   "source": [
    "months_data = df[\"Date\"].count()"
   ]
  },
  {
   "cell_type": "code",
   "execution_count": 36,
   "id": "2515aa62-611d-4372-a370-d2944e4dcdd4",
   "metadata": {},
   "outputs": [
    {
     "data": {
      "text/plain": [
       "'Total months : 86'"
      ]
     },
     "execution_count": 36,
     "metadata": {},
     "output_type": "execute_result"
    }
   ],
   "source": [
    "f\"Total months : {months_data}\""
   ]
  },
  {
   "cell_type": "code",
   "execution_count": 37,
   "id": "99b8d928-ccbb-48a2-86c2-f8167c3b14dc",
   "metadata": {},
   "outputs": [],
   "source": [
    "profit_loss_data = df[\"Profit/Losses\"].sum()"
   ]
  },
  {
   "cell_type": "code",
   "execution_count": 38,
   "id": "57498907-8055-4a58-bab4-57775778dc05",
   "metadata": {},
   "outputs": [
    {
     "name": "stdout",
     "output_type": "stream",
     "text": [
      "Total Profit/Loss : $38382578\n"
     ]
    }
   ],
   "source": [
    "print(f\"Total Profit/Loss : ${profit_loss_data}\")"
   ]
  },
  {
   "cell_type": "code",
   "execution_count": 39,
   "id": "e6348bf0-3950-4130-b3a1-cba01ccc227b",
   "metadata": {},
   "outputs": [],
   "source": [
    "profit = 0\n",
    "loss = 0\n",
    "increase = 0"
   ]
  },
  {
   "cell_type": "code",
   "execution_count": 40,
   "id": "c025e838-1b59-4f7f-8dde-0fa7d2c03348",
   "metadata": {},
   "outputs": [],
   "source": [
    "for num in df[\"Profit/Losses\"]:\n",
    "    if num > 0:\n",
    "        profit += num\n",
    "    elif num < 0:\n",
    "        loss += num"
   ]
  },
  {
   "cell_type": "code",
   "execution_count": 41,
   "id": "85458075-1552-47f7-94e8-ce5ae5fa240b",
   "metadata": {},
   "outputs": [
    {
     "data": {
      "text/plain": [
       "616714.3023255814"
      ]
     },
     "execution_count": 41,
     "metadata": {},
     "output_type": "execute_result"
    }
   ],
   "source": [
    "(profit - loss)/86"
   ]
  },
  {
   "cell_type": "code",
   "execution_count": 47,
   "id": "1d98e9c8-88b6-4dc3-830b-a687c01c6430",
   "metadata": {},
   "outputs": [
    {
     "name": "stdout",
     "output_type": "stream",
     "text": [
      "1170593\n"
     ]
    }
   ],
   "source": [
    "big = df[\"Profit/Losses\"].max()\n",
    "print(big)"
   ]
  },
  {
   "cell_type": "code",
   "execution_count": 55,
   "id": "f3f8299f-824c-4a5e-b57d-6c9a7553eef7",
   "metadata": {},
   "outputs": [
    {
     "name": "stdout",
     "output_type": "stream",
     "text": [
      "1926159\n",
      "-2196167\n"
     ]
    }
   ],
   "source": [
    "diff_list = []\n",
    "for i in range(1,len(df[\"Profit/Losses\"])):\n",
    "    x = df[\"Profit/Losses\"][i] - df[\"Profit/Losses\"][i-1]\n",
    "    diff_list.append(x)\n",
    "\n",
    "print(max(diff_list))\n",
    "print(min(diff_list))"
   ]
  },
  {
   "cell_type": "code",
   "execution_count": 49,
   "id": "7c092a8c-c89b-48c9-be24-d4867d93f924",
   "metadata": {},
   "outputs": [
    {
     "name": "stdout",
     "output_type": "stream",
     "text": [
      "45710004\n"
     ]
    }
   ],
   "source": [
    "print(profit)"
   ]
  },
  {
   "cell_type": "code",
   "execution_count": null,
   "id": "cf3756e7-07fe-4516-b1c0-b631bf7faa73",
   "metadata": {},
   "outputs": [],
   "source": []
  }
 ],
 "metadata": {
  "kernelspec": {
   "display_name": "Python 3 (ipykernel)",
   "language": "python",
   "name": "python3"
  },
  "language_info": {
   "codemirror_mode": {
    "name": "ipython",
    "version": 3
   },
   "file_extension": ".py",
   "mimetype": "text/x-python",
   "name": "python",
   "nbconvert_exporter": "python",
   "pygments_lexer": "ipython3",
   "version": "3.7.13"
  }
 },
 "nbformat": 4,
 "nbformat_minor": 5
}
