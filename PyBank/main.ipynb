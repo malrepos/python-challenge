{
 "cells": [
  {
   "cell_type": "code",
   "execution_count": 1,
   "id": "cde36ec7-2f4f-496b-8356-6b41224d5920",
   "metadata": {},
   "outputs": [],
   "source": [
    "#import necessary modules\n",
    "import csv"
   ]
  },
  {
   "cell_type": "code",
   "execution_count": 2,
   "id": "6c0f9b38-fbc1-4c72-a4a3-45787ec7f00b",
   "metadata": {},
   "outputs": [
    {
     "name": "stdout",
     "output_type": "stream",
     "text": [
      "Total Months : 86\n",
      "Total : $38382578\n",
      "Average Change : $-2315.12\n",
      "Greatest Increase in Profits: ($1926159)\n",
      "Greatest Decrease in Profits: ($-2196167)\n"
     ]
    }
   ],
   "source": [
    "#initialize variables I will populate with data\n",
    "profit_loss = {}\n",
    "diff_list = []\n",
    "new_list = []\n",
    "months = 0\n",
    "total = 0\n",
    "total_change = 0\n",
    "\n",
    "#open the csv file in read mode\n",
    "with open(\"Resources/budget_data.csv\", 'r') as csvfile:\n",
    "    csvreader = csv.reader(csvfile)\n",
    "    #skip the header of the csv file\n",
    "    header = next(csvreader)\n",
    "    \n",
    "    #loop through the rows and pull out data into a dictionary(profit_loss)\n",
    "    for row in csvreader:\n",
    "        profit_loss[row[0]] = row[1]\n",
    "        \n",
    "    #loop through the dictionary and:\n",
    "    #incrememnt months to get total months,\n",
    "    #add up values to get total\n",
    "    #append values to a list for later manipulation\n",
    "    for key, value in profit_loss.items():\n",
    "        months += 1\n",
    "        total += int(value)\n",
    "        diff_list.append(int(value))\n",
    "        \n",
    "    #loop through my list of values(diff_list)\n",
    "    #get the change in value each month and:\n",
    "    #append these \"change values\" to a list(new_list)\n",
    "    for i in range(1, len(diff_list)):\n",
    "        change = diff_list[i] - diff_list[i-1]\n",
    "        new_list.append(change)\n",
    "        \n",
    "    #loop through new_list\n",
    "    #calculate the average change for the whole data set\n",
    "    for y in new_list:\n",
    "        total_change += y\n",
    "        average = total_change/(len(new_list))\n",
    "\n",
    "#print results to the terminal\n",
    "print(f\"Total Months : {months}\")\n",
    "print(f\"Total : ${total}\")\n",
    "print(f\"Average Change : ${round(average, 2)}\")\n",
    "print(f\"Greatest Increase in Profits: (${max(new_list)})\")\n",
    "print(f\"Greatest Decrease in Profits: (${min(new_list)})\")"
   ]
  },
  {
   "cell_type": "code",
   "execution_count": 4,
   "id": "7bc59fdc-2c73-49e3-9c82-650f713d90fa",
   "metadata": {},
   "outputs": [],
   "source": [
    "#Output results to a text file\n",
    "\n",
    "#set name of output file\n",
    "output_path = 'output.txt'\n",
    "\n",
    "#write results to file\n",
    "with open(output_path, 'w') as file:\n",
    "    file.write(\"---------Financial Analysis----------\\n\\n\")\n",
    "    file.write(f\"Total Months : {months}\\n\")\n",
    "    file.write(f\"Total : ${total}\\n\")\n",
    "    file.write(f\"Average Change : ${round(average, 2)}\\n\")\n",
    "    file.write(f\"Greatest Increase in Profits: (${max(new_list)})\\n\")\n",
    "    file.write(f\"Greatest Decrease in Profits: (${min(new_list)})\")"
   ]
  },
  {
   "cell_type": "code",
   "execution_count": null,
   "id": "23d9aa48-b895-4290-8ccb-b9679ccee1e7",
   "metadata": {},
   "outputs": [],
   "source": []
  }
 ],
 "metadata": {
  "kernelspec": {
   "display_name": "Python 3 (ipykernel)",
   "language": "python",
   "name": "python3"
  },
  "language_info": {
   "codemirror_mode": {
    "name": "ipython",
    "version": 3
   },
   "file_extension": ".py",
   "mimetype": "text/x-python",
   "name": "python",
   "nbconvert_exporter": "python",
   "pygments_lexer": "ipython3",
   "version": "3.9.7"
  }
 },
 "nbformat": 4,
 "nbformat_minor": 5
}
