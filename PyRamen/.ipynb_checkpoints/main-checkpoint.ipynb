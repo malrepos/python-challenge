{
 "cells": [
  {
   "cell_type": "code",
   "execution_count": 3,
   "id": "a3f9e26c-4ba8-43db-9848-0c9cd95b3d85",
   "metadata": {},
   "outputs": [],
   "source": [
    "import pandas as pd\n",
    "from pathlib import Path"
   ]
  },
  {
   "cell_type": "code",
   "execution_count": 4,
   "id": "b41b6265-b6b6-4670-8418-4b632bacabe9",
   "metadata": {},
   "outputs": [],
   "source": [
    "file1 = Path(\"Resources/sales_data.csv\")"
   ]
  },
  {
   "cell_type": "code",
   "execution_count": 5,
   "id": "91f480c7-f354-43f2-9f3b-9e3e9750c47c",
   "metadata": {},
   "outputs": [],
   "source": [
    "file2 = Path(\"Resources/menu_data.csv\")"
   ]
  },
  {
   "cell_type": "code",
   "execution_count": null,
   "id": "73501298-ac63-45c4-ba7d-d9962dac9488",
   "metadata": {},
   "outputs": [],
   "source": []
  }
 ],
 "metadata": {
  "kernelspec": {
   "display_name": "Python 3 (ipykernel)",
   "language": "python",
   "name": "python3"
  },
  "language_info": {
   "codemirror_mode": {
    "name": "ipython",
    "version": 3
   },
   "file_extension": ".py",
   "mimetype": "text/x-python",
   "name": "python",
   "nbconvert_exporter": "python",
   "pygments_lexer": "ipython3",
   "version": "3.7.13"
  }
 },
 "nbformat": 4,
 "nbformat_minor": 5
}
